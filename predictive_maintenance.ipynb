{
 "cells": [
  {
   "cell_type": "markdown",
   "id": "59d2d753-a370-408f-a73f-26b31c434757",
   "metadata": {},
   "source": [
    "## <font color='red'>Projeto: Prevenção da Manutenção de Máquinas Industriais</font>"
   ]
  },
  {
   "cell_type": "markdown",
   "id": "159360f1-a450-4c9e-b07f-1ec07e05858f",
   "metadata": {},
   "source": [
    "https://www.kaggle.com/datasets/shivamb/machine-predictive-maintenance-classification"
   ]
  },
  {
   "cell_type": "code",
   "execution_count": 1,
   "id": "9d7a08d2-ebeb-4c53-a14e-5289be2ca036",
   "metadata": {},
   "outputs": [],
   "source": [
    "# Imports\n",
    "import numpy as np\n",
    "import pandas as pd\n",
    "import sklearn\n",
    "import matplotlib.pyplot as plt\n",
    "from sklearn.preprocessing import StandardScaler\n",
    "from sklearn.decomposition import PCA\n",
    "from sklearn.model_selection import cross_val_score\n",
    "from sklearn.linear_model import LogisticRegression\n",
    "from sklearn.model_selection import LeaveOneOut\n",
    "from sklearn.preprocessing import LabelEncoder\n",
    "from sklearn.cluster import KMeans\n",
    "import warnings\n",
    "import pkg_resources\n",
    "warnings.filterwarnings('ignore')"
   ]
  },
  {
   "cell_type": "code",
   "execution_count": 2,
   "id": "08e61fc1-1f37-40ad-b3e6-9d912ce90cab",
   "metadata": {},
   "outputs": [],
   "source": [
    "# Carregando base de dados\n",
    "df = pd.read_csv('predictive_maintenance.csv')"
   ]
  },
  {
   "cell_type": "code",
   "execution_count": 3,
   "id": "3653c376-dfed-4be7-a4f3-39aebff7341c",
   "metadata": {},
   "outputs": [
    {
     "data": {
      "text/plain": [
       "(10000, 10)"
      ]
     },
     "execution_count": 3,
     "metadata": {},
     "output_type": "execute_result"
    }
   ],
   "source": [
    "df.shape"
   ]
  },
  {
   "cell_type": "code",
   "execution_count": 4,
   "id": "2992c575-b443-4940-8f9e-99223ad75e14",
   "metadata": {},
   "outputs": [
    {
     "data": {
      "text/html": [
       "<div>\n",
       "<style scoped>\n",
       "    .dataframe tbody tr th:only-of-type {\n",
       "        vertical-align: middle;\n",
       "    }\n",
       "\n",
       "    .dataframe tbody tr th {\n",
       "        vertical-align: top;\n",
       "    }\n",
       "\n",
       "    .dataframe thead th {\n",
       "        text-align: right;\n",
       "    }\n",
       "</style>\n",
       "<table border=\"1\" class=\"dataframe\">\n",
       "  <thead>\n",
       "    <tr style=\"text-align: right;\">\n",
       "      <th></th>\n",
       "      <th>UDI</th>\n",
       "      <th>Air temperature [K]</th>\n",
       "      <th>Process temperature [K]</th>\n",
       "      <th>Rotational speed [rpm]</th>\n",
       "      <th>Torque [Nm]</th>\n",
       "      <th>Tool wear [min]</th>\n",
       "      <th>Target</th>\n",
       "    </tr>\n",
       "  </thead>\n",
       "  <tbody>\n",
       "    <tr>\n",
       "      <th>count</th>\n",
       "      <td>10000.00000</td>\n",
       "      <td>10000.000000</td>\n",
       "      <td>10000.000000</td>\n",
       "      <td>10000.000000</td>\n",
       "      <td>10000.000000</td>\n",
       "      <td>10000.000000</td>\n",
       "      <td>10000.000000</td>\n",
       "    </tr>\n",
       "    <tr>\n",
       "      <th>mean</th>\n",
       "      <td>5000.50000</td>\n",
       "      <td>300.004930</td>\n",
       "      <td>310.005560</td>\n",
       "      <td>1538.776100</td>\n",
       "      <td>39.986910</td>\n",
       "      <td>107.951000</td>\n",
       "      <td>0.033900</td>\n",
       "    </tr>\n",
       "    <tr>\n",
       "      <th>std</th>\n",
       "      <td>2886.89568</td>\n",
       "      <td>2.000259</td>\n",
       "      <td>1.483734</td>\n",
       "      <td>179.284096</td>\n",
       "      <td>9.968934</td>\n",
       "      <td>63.654147</td>\n",
       "      <td>0.180981</td>\n",
       "    </tr>\n",
       "    <tr>\n",
       "      <th>min</th>\n",
       "      <td>1.00000</td>\n",
       "      <td>295.300000</td>\n",
       "      <td>305.700000</td>\n",
       "      <td>1168.000000</td>\n",
       "      <td>3.800000</td>\n",
       "      <td>0.000000</td>\n",
       "      <td>0.000000</td>\n",
       "    </tr>\n",
       "    <tr>\n",
       "      <th>25%</th>\n",
       "      <td>2500.75000</td>\n",
       "      <td>298.300000</td>\n",
       "      <td>308.800000</td>\n",
       "      <td>1423.000000</td>\n",
       "      <td>33.200000</td>\n",
       "      <td>53.000000</td>\n",
       "      <td>0.000000</td>\n",
       "    </tr>\n",
       "    <tr>\n",
       "      <th>50%</th>\n",
       "      <td>5000.50000</td>\n",
       "      <td>300.100000</td>\n",
       "      <td>310.100000</td>\n",
       "      <td>1503.000000</td>\n",
       "      <td>40.100000</td>\n",
       "      <td>108.000000</td>\n",
       "      <td>0.000000</td>\n",
       "    </tr>\n",
       "    <tr>\n",
       "      <th>75%</th>\n",
       "      <td>7500.25000</td>\n",
       "      <td>301.500000</td>\n",
       "      <td>311.100000</td>\n",
       "      <td>1612.000000</td>\n",
       "      <td>46.800000</td>\n",
       "      <td>162.000000</td>\n",
       "      <td>0.000000</td>\n",
       "    </tr>\n",
       "    <tr>\n",
       "      <th>max</th>\n",
       "      <td>10000.00000</td>\n",
       "      <td>304.500000</td>\n",
       "      <td>313.800000</td>\n",
       "      <td>2886.000000</td>\n",
       "      <td>76.600000</td>\n",
       "      <td>253.000000</td>\n",
       "      <td>1.000000</td>\n",
       "    </tr>\n",
       "  </tbody>\n",
       "</table>\n",
       "</div>"
      ],
      "text/plain": [
       "               UDI  Air temperature [K]  Process temperature [K]  \\\n",
       "count  10000.00000         10000.000000             10000.000000   \n",
       "mean    5000.50000           300.004930               310.005560   \n",
       "std     2886.89568             2.000259                 1.483734   \n",
       "min        1.00000           295.300000               305.700000   \n",
       "25%     2500.75000           298.300000               308.800000   \n",
       "50%     5000.50000           300.100000               310.100000   \n",
       "75%     7500.25000           301.500000               311.100000   \n",
       "max    10000.00000           304.500000               313.800000   \n",
       "\n",
       "       Rotational speed [rpm]   Torque [Nm]  Tool wear [min]        Target  \n",
       "count            10000.000000  10000.000000     10000.000000  10000.000000  \n",
       "mean              1538.776100     39.986910       107.951000      0.033900  \n",
       "std                179.284096      9.968934        63.654147      0.180981  \n",
       "min               1168.000000      3.800000         0.000000      0.000000  \n",
       "25%               1423.000000     33.200000        53.000000      0.000000  \n",
       "50%               1503.000000     40.100000       108.000000      0.000000  \n",
       "75%               1612.000000     46.800000       162.000000      0.000000  \n",
       "max               2886.000000     76.600000       253.000000      1.000000  "
      ]
     },
     "execution_count": 4,
     "metadata": {},
     "output_type": "execute_result"
    }
   ],
   "source": [
    "df.describe()"
   ]
  },
  {
   "cell_type": "markdown",
   "id": "09abbe92-bbbd-440a-ad57-b741c5988aac",
   "metadata": {},
   "source": [
    "## <font color='red'>Parte 1: Limpeza e Tratamento de Dados</font>"
   ]
  },
  {
   "cell_type": "code",
   "execution_count": 5,
   "id": "98f0bcf5-e534-4a88-b09d-2b323f6ea986",
   "metadata": {},
   "outputs": [
    {
     "data": {
      "text/html": [
       "<div>\n",
       "<style scoped>\n",
       "    .dataframe tbody tr th:only-of-type {\n",
       "        vertical-align: middle;\n",
       "    }\n",
       "\n",
       "    .dataframe tbody tr th {\n",
       "        vertical-align: top;\n",
       "    }\n",
       "\n",
       "    .dataframe thead th {\n",
       "        text-align: right;\n",
       "    }\n",
       "</style>\n",
       "<table border=\"1\" class=\"dataframe\">\n",
       "  <thead>\n",
       "    <tr style=\"text-align: right;\">\n",
       "      <th></th>\n",
       "      <th>UDI</th>\n",
       "      <th>Product ID</th>\n",
       "      <th>Type</th>\n",
       "      <th>Air temperature [K]</th>\n",
       "      <th>Process temperature [K]</th>\n",
       "      <th>Rotational speed [rpm]</th>\n",
       "      <th>Torque [Nm]</th>\n",
       "      <th>Tool wear [min]</th>\n",
       "      <th>Target</th>\n",
       "      <th>Failure Type</th>\n",
       "    </tr>\n",
       "  </thead>\n",
       "  <tbody>\n",
       "    <tr>\n",
       "      <th>3865</th>\n",
       "      <td>3866</td>\n",
       "      <td>H33279</td>\n",
       "      <td>H</td>\n",
       "      <td>302.6</td>\n",
       "      <td>311.5</td>\n",
       "      <td>1629</td>\n",
       "      <td>34.4</td>\n",
       "      <td>228</td>\n",
       "      <td>1</td>\n",
       "      <td>Tool Wear Failure</td>\n",
       "    </tr>\n",
       "    <tr>\n",
       "      <th>1437</th>\n",
       "      <td>1438</td>\n",
       "      <td>H30851</td>\n",
       "      <td>H</td>\n",
       "      <td>298.8</td>\n",
       "      <td>309.9</td>\n",
       "      <td>1439</td>\n",
       "      <td>45.2</td>\n",
       "      <td>40</td>\n",
       "      <td>1</td>\n",
       "      <td>No Failure</td>\n",
       "    </tr>\n",
       "    <tr>\n",
       "      <th>5399</th>\n",
       "      <td>5400</td>\n",
       "      <td>H34813</td>\n",
       "      <td>H</td>\n",
       "      <td>302.8</td>\n",
       "      <td>312.4</td>\n",
       "      <td>1411</td>\n",
       "      <td>53.8</td>\n",
       "      <td>246</td>\n",
       "      <td>1</td>\n",
       "      <td>Overstrain Failure</td>\n",
       "    </tr>\n",
       "    <tr>\n",
       "      <th>5941</th>\n",
       "      <td>5942</td>\n",
       "      <td>L53121</td>\n",
       "      <td>L</td>\n",
       "      <td>300.6</td>\n",
       "      <td>310.7</td>\n",
       "      <td>1438</td>\n",
       "      <td>48.5</td>\n",
       "      <td>78</td>\n",
       "      <td>1</td>\n",
       "      <td>No Failure</td>\n",
       "    </tr>\n",
       "    <tr>\n",
       "      <th>1833</th>\n",
       "      <td>1834</td>\n",
       "      <td>L49013</td>\n",
       "      <td>L</td>\n",
       "      <td>297.8</td>\n",
       "      <td>307.3</td>\n",
       "      <td>1327</td>\n",
       "      <td>61.0</td>\n",
       "      <td>186</td>\n",
       "      <td>1</td>\n",
       "      <td>Overstrain Failure</td>\n",
       "    </tr>\n",
       "  </tbody>\n",
       "</table>\n",
       "</div>"
      ],
      "text/plain": [
       "       UDI Product ID Type  Air temperature [K]  Process temperature [K]  \\\n",
       "3865  3866     H33279    H                302.6                    311.5   \n",
       "1437  1438     H30851    H                298.8                    309.9   \n",
       "5399  5400     H34813    H                302.8                    312.4   \n",
       "5941  5942     L53121    L                300.6                    310.7   \n",
       "1833  1834     L49013    L                297.8                    307.3   \n",
       "\n",
       "      Rotational speed [rpm]  Torque [Nm]  Tool wear [min]  Target  \\\n",
       "3865                    1629         34.4              228       1   \n",
       "1437                    1439         45.2               40       1   \n",
       "5399                    1411         53.8              246       1   \n",
       "5941                    1438         48.5               78       1   \n",
       "1833                    1327         61.0              186       1   \n",
       "\n",
       "            Failure Type  \n",
       "3865   Tool Wear Failure  \n",
       "1437          No Failure  \n",
       "5399  Overstrain Failure  \n",
       "5941          No Failure  \n",
       "1833  Overstrain Failure  "
      ]
     },
     "execution_count": 5,
     "metadata": {},
     "output_type": "execute_result"
    }
   ],
   "source": [
    "# Verificando onde deu problema na máquina\n",
    "df[df['Target'] == 1].sample(5)"
   ]
  },
  {
   "cell_type": "code",
   "execution_count": 6,
   "id": "20236d19-df36-4acb-87ad-745e024166f4",
   "metadata": {},
   "outputs": [],
   "source": [
    "'''\n",
    "O foco do projeto não será verificar o tipo de falha que a máquina teve, mas sim se apenas houve ou não alguma falha. Sendo assim a coluna Failure Type\n",
    "será removida. A coluna UDI também será removida pois não apresenta informações relevantes assim como a coluna Product ID.\n",
    "'''\n",
    "columns_to_drop = ['UDI', 'Product ID', 'Failure Type']\n",
    "\n",
    "df.drop(columns = columns_to_drop, inplace = True)"
   ]
  },
  {
   "cell_type": "code",
   "execution_count": 7,
   "id": "2aaaacb9-a5c7-4a9a-9c60-b86e1c538eb1",
   "metadata": {},
   "outputs": [
    {
     "data": {
      "text/html": [
       "<div>\n",
       "<style scoped>\n",
       "    .dataframe tbody tr th:only-of-type {\n",
       "        vertical-align: middle;\n",
       "    }\n",
       "\n",
       "    .dataframe tbody tr th {\n",
       "        vertical-align: top;\n",
       "    }\n",
       "\n",
       "    .dataframe thead th {\n",
       "        text-align: right;\n",
       "    }\n",
       "</style>\n",
       "<table border=\"1\" class=\"dataframe\">\n",
       "  <thead>\n",
       "    <tr style=\"text-align: right;\">\n",
       "      <th></th>\n",
       "      <th>Type</th>\n",
       "      <th>Air temperature [K]</th>\n",
       "      <th>Process temperature [K]</th>\n",
       "      <th>Rotational speed [rpm]</th>\n",
       "      <th>Torque [Nm]</th>\n",
       "      <th>Tool wear [min]</th>\n",
       "      <th>Target</th>\n",
       "    </tr>\n",
       "  </thead>\n",
       "  <tbody>\n",
       "    <tr>\n",
       "      <th>0</th>\n",
       "      <td>M</td>\n",
       "      <td>298.1</td>\n",
       "      <td>308.6</td>\n",
       "      <td>1551</td>\n",
       "      <td>42.8</td>\n",
       "      <td>0</td>\n",
       "      <td>0</td>\n",
       "    </tr>\n",
       "    <tr>\n",
       "      <th>1</th>\n",
       "      <td>L</td>\n",
       "      <td>298.2</td>\n",
       "      <td>308.7</td>\n",
       "      <td>1408</td>\n",
       "      <td>46.3</td>\n",
       "      <td>3</td>\n",
       "      <td>0</td>\n",
       "    </tr>\n",
       "  </tbody>\n",
       "</table>\n",
       "</div>"
      ],
      "text/plain": [
       "  Type  Air temperature [K]  Process temperature [K]  Rotational speed [rpm]  \\\n",
       "0    M                298.1                    308.6                    1551   \n",
       "1    L                298.2                    308.7                    1408   \n",
       "\n",
       "   Torque [Nm]  Tool wear [min]  Target  \n",
       "0         42.8                0       0  \n",
       "1         46.3                3       0  "
      ]
     },
     "execution_count": 7,
     "metadata": {},
     "output_type": "execute_result"
    }
   ],
   "source": [
    "df.head(2)"
   ]
  },
  {
   "cell_type": "code",
   "execution_count": 8,
   "id": "9b887ee8-8319-4e85-b159-12da362d6080",
   "metadata": {},
   "outputs": [],
   "source": [
    "# Alterando nome das colunas\n",
    "df.rename(columns = {'Type': 'type',\n",
    "                      'Air temperature [K]': 'air_temperature[K]',\n",
    "                      'Process temperature [K]': 'process_temperature[K]',\n",
    "                      'Rotational speed [rpm]': 'rotational_speed[rpm]',\n",
    "                      'Torque [Nm]': 'torque[NM]',\n",
    "                      'Tool wear [min]': 'tool_wear[min]',\n",
    "                      'Target': 'target'}, inplace = True)"
   ]
  },
  {
   "cell_type": "code",
   "execution_count": 9,
   "id": "1b5bc6af-f0fe-4dbf-bae6-3cdf28f0abce",
   "metadata": {},
   "outputs": [],
   "source": [
    "# Verificar valores ausentes\n",
    "def missing_values(df):\n",
    "    missing_values = df.isna().sum()\n",
    "    percentage = (missing_values / len(df)).apply(lambda x:'{:.2%}'.format(x))\n",
    "    return pd.DataFrame({'Missing Values': missing_values,\n",
    "                         'Percentage': percentage})"
   ]
  },
  {
   "cell_type": "code",
   "execution_count": 10,
   "id": "000def56-572b-489b-89ed-bf497faa4064",
   "metadata": {},
   "outputs": [
    {
     "data": {
      "text/html": [
       "<div>\n",
       "<style scoped>\n",
       "    .dataframe tbody tr th:only-of-type {\n",
       "        vertical-align: middle;\n",
       "    }\n",
       "\n",
       "    .dataframe tbody tr th {\n",
       "        vertical-align: top;\n",
       "    }\n",
       "\n",
       "    .dataframe thead th {\n",
       "        text-align: right;\n",
       "    }\n",
       "</style>\n",
       "<table border=\"1\" class=\"dataframe\">\n",
       "  <thead>\n",
       "    <tr style=\"text-align: right;\">\n",
       "      <th></th>\n",
       "      <th>Missing Values</th>\n",
       "      <th>Percentage</th>\n",
       "    </tr>\n",
       "  </thead>\n",
       "  <tbody>\n",
       "    <tr>\n",
       "      <th>type</th>\n",
       "      <td>0</td>\n",
       "      <td>0.00%</td>\n",
       "    </tr>\n",
       "    <tr>\n",
       "      <th>air_temperature[K]</th>\n",
       "      <td>0</td>\n",
       "      <td>0.00%</td>\n",
       "    </tr>\n",
       "    <tr>\n",
       "      <th>process_temperature[K]</th>\n",
       "      <td>0</td>\n",
       "      <td>0.00%</td>\n",
       "    </tr>\n",
       "    <tr>\n",
       "      <th>rotational_speed[rpm]</th>\n",
       "      <td>0</td>\n",
       "      <td>0.00%</td>\n",
       "    </tr>\n",
       "    <tr>\n",
       "      <th>torque[NM]</th>\n",
       "      <td>0</td>\n",
       "      <td>0.00%</td>\n",
       "    </tr>\n",
       "    <tr>\n",
       "      <th>tool_wear[min]</th>\n",
       "      <td>0</td>\n",
       "      <td>0.00%</td>\n",
       "    </tr>\n",
       "    <tr>\n",
       "      <th>target</th>\n",
       "      <td>0</td>\n",
       "      <td>0.00%</td>\n",
       "    </tr>\n",
       "  </tbody>\n",
       "</table>\n",
       "</div>"
      ],
      "text/plain": [
       "                        Missing Values Percentage\n",
       "type                                 0      0.00%\n",
       "air_temperature[K]                   0      0.00%\n",
       "process_temperature[K]               0      0.00%\n",
       "rotational_speed[rpm]                0      0.00%\n",
       "torque[NM]                           0      0.00%\n",
       "tool_wear[min]                       0      0.00%\n",
       "target                               0      0.00%"
      ]
     },
     "execution_count": 10,
     "metadata": {},
     "output_type": "execute_result"
    }
   ],
   "source": [
    "missing_values(df)"
   ]
  },
  {
   "cell_type": "markdown",
   "id": "9e4ab7b0-3ae8-46d7-a008-3cfe7bdb9463",
   "metadata": {},
   "source": [
    "## <font color='red'>Parte 2: Mapeamento da Coluna Type</font>"
   ]
  },
  {
   "cell_type": "code",
   "execution_count": 11,
   "id": "2d6bdae1-cc7d-4c03-bc5e-a252be45824a",
   "metadata": {},
   "outputs": [],
   "source": [
    "# Será alterado os valores da coluna type para valores numéricos\n",
    "# Definir o mapeamento fixo\n",
    "type_mapping = {'L': 1, 'M': 2, 'H': 3}\n",
    "\n",
    "# Aplicar o mapeamento ao DataFrame\n",
    "df['type'] = df['type'].map(type_mapping)"
   ]
  },
  {
   "cell_type": "markdown",
   "id": "40095381-21a2-44bc-8431-26b5ce693fd3",
   "metadata": {},
   "source": [
    "## <font color='red'>Parte 3: Padronização dos Dados</font>"
   ]
  },
  {
   "cell_type": "code",
   "execution_count": 12,
   "id": "cf726be6-9ffb-4a9f-9296-be6e9989abf4",
   "metadata": {},
   "outputs": [],
   "source": [
    "# Cria o padronizador\n",
    "scaler = StandardScaler()"
   ]
  },
  {
   "cell_type": "code",
   "execution_count": 13,
   "id": "3efa3736-f59f-47eb-87fe-19d6ee0444a0",
   "metadata": {},
   "outputs": [],
   "source": [
    "# Criar novo df sem a variável alvo\n",
    "dados = df.drop(columns=['target'])"
   ]
  },
  {
   "cell_type": "markdown",
   "id": "832400c0-ede5-48cd-811f-b95abeec9b2d",
   "metadata": {},
   "source": [
    "dados.head(5)"
   ]
  },
  {
   "cell_type": "code",
   "execution_count": 14,
   "id": "73c6d07d-0a51-4cd9-9a00-9b53c1dc9c66",
   "metadata": {},
   "outputs": [],
   "source": [
    "# Aplicando o padronizador\n",
    "dados_padronizados = scaler.fit_transform(dados)"
   ]
  },
  {
   "cell_type": "code",
   "execution_count": 15,
   "id": "dda6de41-cdcf-43be-bb13-bbc1cc1dc90f",
   "metadata": {},
   "outputs": [
    {
     "data": {
      "text/plain": [
       "array([[ 0.74441274, -0.95238944, -0.94735989,  0.06818514,  0.28219976,\n",
       "        -1.69598374],\n",
       "       [-0.74530658, -0.90239341, -0.879959  , -0.72947151,  0.63330802,\n",
       "        -1.6488517 ],\n",
       "       [-0.74530658, -0.95238944, -1.01476077, -0.22744984,  0.94428963,\n",
       "        -1.61743034],\n",
       "       ...,\n",
       "       [ 0.74441274, -0.50242514, -0.94735989,  0.59251888, -0.66077672,\n",
       "        -1.35034876],\n",
       "       [ 2.23413206, -0.50242514, -0.879959  , -0.72947151,  0.85400464,\n",
       "        -1.30321671],\n",
       "       [ 0.74441274, -0.50242514, -0.879959  , -0.2162938 ,  0.02137647,\n",
       "        -1.22466331]])"
      ]
     },
     "execution_count": 15,
     "metadata": {},
     "output_type": "execute_result"
    }
   ],
   "source": [
    "dados_padronizados"
   ]
  },
  {
   "cell_type": "markdown",
   "id": "69c5180f-92f2-469f-ab37-455394d6ecf5",
   "metadata": {},
   "source": [
    "## <font color='red'>Parte 4: Aplicando PCA</font>"
   ]
  },
  {
   "cell_type": "code",
   "execution_count": 16,
   "id": "ab19e0e5-0355-423c-a95d-d762c0ade6b7",
   "metadata": {},
   "outputs": [],
   "source": [
    "# Criar modelo\n",
    "pca = PCA()"
   ]
  },
  {
   "cell_type": "code",
   "execution_count": 17,
   "id": "7a15687c-61fc-45a0-91a4-86b4bc579be5",
   "metadata": {},
   "outputs": [],
   "source": [
    "# Treina e aplica o modelo aos dados padronizados\n",
    "dados_pca = pca.fit_transform(dados_padronizados)"
   ]
  },
  {
   "cell_type": "code",
   "execution_count": 18,
   "id": "fe56a67d-503c-4d1c-a084-b8ea073ae0ef",
   "metadata": {},
   "outputs": [
    {
     "data": {
      "text/plain": [
       "array([[-1.10818884,  0.86238991,  1.6811689 , -0.67610376,  0.20104347,\n",
       "         0.15385387],\n",
       "       [-1.59152716,  0.19918311,  0.59618165, -1.69192891, -0.06677308,\n",
       "        -0.02993335],\n",
       "       [-1.58877637,  0.38501522,  0.56870922, -1.67326399,  0.4279888 ,\n",
       "         0.27000025],\n",
       "       ...,\n",
       "       [-0.15163569,  1.38073468,  1.44836204, -0.43164935,  0.15644685,\n",
       "        -0.27793409],\n",
       "       [-1.53819592, -0.06849842,  2.46814016,  0.65592242,  0.24614037,\n",
       "        -0.15702693],\n",
       "       [-0.85056268,  0.59010626,  1.36019413, -0.34063003,  0.05685997,\n",
       "        -0.29474932]])"
      ]
     },
     "execution_count": 18,
     "metadata": {},
     "output_type": "execute_result"
    }
   ],
   "source": [
    "dados_pca"
   ]
  },
  {
   "cell_type": "markdown",
   "id": "5f2d32b3-dda6-472d-b264-ddd2a1401c48",
   "metadata": {},
   "source": [
    "## <font color='red'>Parte 5: Criando Matriz de Covariância</font>"
   ]
  },
  {
   "cell_type": "code",
   "execution_count": 19,
   "id": "954fa277-f22b-41a0-a0f7-531ae0bccba4",
   "metadata": {},
   "outputs": [
    {
     "data": {
      "text/plain": [
       "array([[ 1.00010001e+00, -1.51779310e-02, -1.21020974e-02,\n",
       "        -3.97976197e-03, -3.09694241e-03, -7.25577816e-03],\n",
       "       [-1.51779310e-02,  1.00010001e+00,  8.76194778e-01,\n",
       "         2.26727261e-02, -1.37792010e-02,  1.38542131e-02],\n",
       "       [-1.21020974e-02,  8.76194778e-01,  1.00010001e+00,\n",
       "         1.92786418e-02, -1.40620193e-02,  1.34888660e-02],\n",
       "       [-3.97976197e-03,  2.26727261e-02,  1.92786418e-02,\n",
       "         1.00010001e+00, -8.75114598e-01,  2.23107151e-04],\n",
       "       [-3.09694241e-03, -1.37792010e-02, -1.40620193e-02,\n",
       "        -8.75114598e-01,  1.00010001e+00, -3.09309075e-03],\n",
       "       [-7.25577816e-03,  1.38542131e-02,  1.34888660e-02,\n",
       "         2.23107151e-04, -3.09309075e-03,  1.00010001e+00]])"
      ]
     },
     "execution_count": 19,
     "metadata": {},
     "output_type": "execute_result"
    }
   ],
   "source": [
    "# Calcula a matriz de Covariância \n",
    "cov_matrix = np.cov(dados_padronizados, rowvar = False)\n",
    "cov_matrix"
   ]
  },
  {
   "cell_type": "code",
   "execution_count": 20,
   "id": "07570f8c-b2ba-48a1-b934-d42f8f518641",
   "metadata": {},
   "outputs": [],
   "source": [
    "# Extrai a variância explicada\n",
    "explained_variance = pca.explained_variance_ratio_\n",
    "var_explicada = pca.explained_variance_ratio_\n",
    "var_acumulada = np.cumsum(var_explicada)"
   ]
  },
  {
   "cell_type": "code",
   "execution_count": 21,
   "id": "d194e067-912b-4dd5-a69e-bb9e0466165c",
   "metadata": {},
   "outputs": [
    {
     "data": {
      "image/png": "[encoded data removed]",
      "text/plain": [
       "<Figure size 1200x800 with 1 Axes>"
      ]
     },
     "metadata": {},
     "output_type": "display_data"
    }
   ],
   "source": [
    "# Gráfico para verificar as variâncias\n",
    "\n",
    "#Plot\n",
    "plt.figure(figsize=(12, 8))\n",
    "x = range(1, len(var_explicada) + 1)\n",
    "plt.plot(x, var_explicada, marker='o', label='Variância Explicada')\n",
    "plt.plot(x, var_acumulada, marker='o', label='Variância Acumulada', linestyle='--')\n",
    "\n",
    "# Adicionar anotações para variância explicada\n",
    "for i in range(len(var_explicada)):\n",
    "    plt.text(x[i], var_explicada[i] + 0.02, f'{var_explicada[i]*100:.1f}%', ha='center', va='bottom')\n",
    "\n",
    "# Adicionar anotações para variância acumulada\n",
    "for i in range(len(var_acumulada)):\n",
    "    plt.text(x[i], var_acumulada[i] + 0.02, f'{var_acumulada[i]*100:.1f}%', ha='center', va='bottom')\n",
    "\n",
    "plt.title('Gráfico de Variância e Variância Acumulada em PCA')\n",
    "plt.xlabel('Número de Componentes Principais')\n",
    "plt.ylabel('Proporção de Variância Explicada')\n",
    "plt.xticks(x)\n",
    "plt.legend()\n",
    "plt.grid(True)\n",
    "plt.show()"
   ]
  },
  {
   "cell_type": "markdown",
   "id": "6b96c395-cc44-436f-b966-da2a6e642713",
   "metadata": {},
   "source": [
    "## <font color='red'>Parte 6: Interpretação de Componentes</font>"
   ]
  },
  {
   "cell_type": "code",
   "execution_count": 22,
   "id": "764f869d-a918-416a-b64c-665f636001cf",
   "metadata": {},
   "outputs": [],
   "source": [
    "# Extraindo os componentes principais\n",
    "componentes = pd.DataFrame(pca.components_, \n",
    "                           columns = dados.columns, \n",
    "                           index = [f'PC-{i}' for i in range(1, 7)])"
   ]
  },
  {
   "cell_type": "code",
   "execution_count": 23,
   "id": "c683cf1f-9e94-4ab3-956b-8a181e5da6b6",
   "metadata": {},
   "outputs": [
    {
     "data": {
      "text/html": [
       "<div>\n",
       "<style scoped>\n",
       "    .dataframe tbody tr th:only-of-type {\n",
       "        vertical-align: middle;\n",
       "    }\n",
       "\n",
       "    .dataframe tbody tr th {\n",
       "        vertical-align: top;\n",
       "    }\n",
       "\n",
       "    .dataframe thead th {\n",
       "        text-align: right;\n",
       "    }\n",
       "</style>\n",
       "<table border=\"1\" class=\"dataframe\">\n",
       "  <thead>\n",
       "    <tr style=\"text-align: right;\">\n",
       "      <th></th>\n",
       "      <th>type</th>\n",
       "      <th>air_temperature[K]</th>\n",
       "      <th>process_temperature[K]</th>\n",
       "      <th>rotational_speed[rpm]</th>\n",
       "      <th>torque[NM]</th>\n",
       "      <th>tool_wear[min]</th>\n",
       "    </tr>\n",
       "  </thead>\n",
       "  <tbody>\n",
       "    <tr>\n",
       "      <th>PC-1</th>\n",
       "      <td>-0.015803</td>\n",
       "      <td>0.507144</td>\n",
       "      <td>0.506251</td>\n",
       "      <td>0.494951</td>\n",
       "      <td>-0.490913</td>\n",
       "      <td>0.017121</td>\n",
       "    </tr>\n",
       "    <tr>\n",
       "      <th>PC-2</th>\n",
       "      <td>0.015585</td>\n",
       "      <td>-0.492263</td>\n",
       "      <td>-0.493147</td>\n",
       "      <td>0.504922</td>\n",
       "      <td>-0.509013</td>\n",
       "      <td>-0.014145</td>\n",
       "    </tr>\n",
       "    <tr>\n",
       "      <th>PC-3</th>\n",
       "      <td>0.707568</td>\n",
       "      <td>0.020791</td>\n",
       "      <td>0.023552</td>\n",
       "      <td>-0.000698</td>\n",
       "      <td>-0.002335</td>\n",
       "      <td>-0.705942</td>\n",
       "    </tr>\n",
       "    <tr>\n",
       "      <th>PC-4</th>\n",
       "      <td>0.706269</td>\n",
       "      <td>-0.001091</td>\n",
       "      <td>0.001132</td>\n",
       "      <td>-0.005028</td>\n",
       "      <td>-0.003076</td>\n",
       "      <td>0.707917</td>\n",
       "    </tr>\n",
       "    <tr>\n",
       "      <th>PC-5</th>\n",
       "      <td>0.006012</td>\n",
       "      <td>0.424889</td>\n",
       "      <td>-0.429354</td>\n",
       "      <td>0.563174</td>\n",
       "      <td>0.563845</td>\n",
       "      <td>0.001793</td>\n",
       "    </tr>\n",
       "    <tr>\n",
       "      <th>PC-6</th>\n",
       "      <td>0.001430</td>\n",
       "      <td>-0.565259</td>\n",
       "      <td>0.561797</td>\n",
       "      <td>0.427652</td>\n",
       "      <td>0.426585</td>\n",
       "      <td>0.001695</td>\n",
       "    </tr>\n",
       "  </tbody>\n",
       "</table>\n",
       "</div>"
      ],
      "text/plain": [
       "          type  air_temperature[K]  process_temperature[K]  \\\n",
       "PC-1 -0.015803            0.507144                0.506251   \n",
       "PC-2  0.015585           -0.492263               -0.493147   \n",
       "PC-3  0.707568            0.020791                0.023552   \n",
       "PC-4  0.706269           -0.001091                0.001132   \n",
       "PC-5  0.006012            0.424889               -0.429354   \n",
       "PC-6  0.001430           -0.565259                0.561797   \n",
       "\n",
       "      rotational_speed[rpm]  torque[NM]  tool_wear[min]  \n",
       "PC-1               0.494951   -0.490913        0.017121  \n",
       "PC-2               0.504922   -0.509013       -0.014145  \n",
       "PC-3              -0.000698   -0.002335       -0.705942  \n",
       "PC-4              -0.005028   -0.003076        0.707917  \n",
       "PC-5               0.563174    0.563845        0.001793  \n",
       "PC-6               0.427652    0.426585        0.001695  "
      ]
     },
     "execution_count": 23,
     "metadata": {},
     "output_type": "execute_result"
    }
   ],
   "source": [
    "componentes"
   ]
  },
  {
   "cell_type": "markdown",
   "id": "49783186-21a4-4e9e-ba23-48290adb630f",
   "metadata": {},
   "source": [
    "A tabela acima mostra os coeficientes (ou cargas) de cada componente principal em relação a cada um dos atributos originais. Cada linha (PC-1, PC-2, etc.) representa um componente principal, e cada valor na linha indica a contribuição relativa de cada atributo original para esse componente principal. Aqui está como você pode interpretar esses valores:\n",
    "\n",
    "**PC-1, PC-2, ..., PC-6**: Estes são os componentes principais obtidos da PCA. Cada componente é uma combinação linear dos atributos originais.\n",
    "\n",
    "**Os valores na tabela mostram como cada atributo original contribui para o componente principal correspondente. Um valor alto (positivo ou negativo) indica uma contribuição significativa desse atributo ao componente principal, enquanto um valor próximo de zero indica pouca ou nenhuma contribuição.\n",
    "\n",
    "Como interpretar cada componente:\n",
    "\n",
    "**PC-1**: Tem altas cargas (em magnitude) para as variáveis air_temperature[K], process_temperature[K], rotational_speed[rpm] e torque[NM], indicando que esses atributos são importantes para este componente. Os sinais opostos (positivo e negativo) podem indicar correlações inversas entre estes atributos no contexto deste componente."
   ]
  },
  {
   "cell_type": "markdown",
   "id": "3c049c87-ab30-408c-be75-3881445ada43",
   "metadata": {},
   "source": [
    "## <font color='red'>Parte 7: Escolhendo o Número Ideal de Componentes com Validação Cruzada</font>"
   ]
  },
  {
   "cell_type": "code",
   "execution_count": 24,
   "id": "2c061603",
   "metadata": {},
   "outputs": [],
   "source": [
    "# Lista para armazenar o SSE\n",
    "sse = []\n",
    "\n",
    "# Range de valores de k a serem testados\n",
    "k_range = range(1, 7)\n",
    "\n",
    "# Testando os valores\n",
    "for k in k_range:\n",
    "    kmeans = KMeans(n_clusters = k)\n",
    "    kmeans.fit(componentes)\n",
    "    sse.append(kmeans.inertia_)"
   ]
  },
  {
   "cell_type": "code",
   "execution_count": 25,
   "id": "cbf876bf",
   "metadata": {},
   "outputs": [
    {
     "data": {
      "image/png": "[encoded data removed]",
      "text/plain": [
       "<Figure size 640x480 with 1 Axes>"
      ]
     },
     "metadata": {},
     "output_type": "display_data"
    }
   ],
   "source": [
    "# Plot\n",
    "plt.plot(k_range, sse, 'bx-')\n",
    "plt.xlabel('k')\n",
    "plt.ylabel('Soma dos Quadrados Intra-Cluster')\n",
    "plt.title('Método do Cotovelo para Ótimo k')\n",
    "plt.show()"
   ]
  },
  {
   "cell_type": "code",
   "execution_count": 26,
   "id": "110454ac-95d9-4fa2-9207-9f9821b56ac8",
   "metadata": {},
   "outputs": [],
   "source": [
    "scores = []"
   ]
  },
  {
   "cell_type": "code",
   "execution_count": 27,
   "id": "24f1a4f6-14ef-4668-b349-2b4fc0352dd3",
   "metadata": {},
   "outputs": [],
   "source": [
    "# Loop sobre o número de componentes do PCA de 1 a 6\n",
    "for i in range(1, 7):\n",
    "    \n",
    "    # Cria um objeto PCA com i componentes\n",
    "    pca = PCA(n_components = i)\n",
    "    \n",
    "    # Ajusta o PCA aos dados escalonados e transforma os dados\n",
    "    pca_data = pca.fit_transform(dados_padronizados)\n",
    "    \n",
    "    # Cria um objeto de regressão logística\n",
    "    lr = LogisticRegression()\n",
    "    \n",
    "    # Avalia a regressão logística usando validação cruzada e calcula a média das pontuações\n",
    "    score = cross_val_score(lr, pca_data, df['target'], cv = 5).mean()\n",
    "    \n",
    "    # Adiciona a média das pontuações à lista de pontuações\n",
    "    scores.append(score)"
   ]
  },
  {
   "cell_type": "code",
   "execution_count": 28,
   "id": "5589f870-028a-4b46-ae4a-cbc5b6cc8586",
   "metadata": {},
   "outputs": [
    {
     "data": {
      "image/png": "[encoded data removed]",
      "text/plain": [
       "<Figure size 640x480 with 1 Axes>"
      ]
     },
     "metadata": {},
     "output_type": "display_data"
    }
   ],
   "source": [
    "# Plot\n",
    "plt.plot(range(1, 7), scores)\n",
    "plt.xlabel('Número de Componentes')\n",
    "plt.ylabel('Desempenho Médio em Validação Cruzada')\n",
    "plt.title('Desempenho vs. Número de Componentes')\n",
    "plt.show()"
   ]
  },
  {
   "cell_type": "markdown",
   "id": "853cb8cf-f2f6-48a7-929f-178a34c57868",
   "metadata": {},
   "source": [
    "## <font color='red'>Parte 8: LOOCV - Leave One Out Cross-Validation</font>"
   ]
  },
  {
   "cell_type": "markdown",
   "id": "9ff75792-98ed-44ab-8f5c-20f97ee6482d",
   "metadata": {},
   "source": [
    "O LOOCV (Leave-One-Out Cross-Validation) é uma técnica de validação cruzada onde cada amostra do dataset é usada como conjunto de teste exatamente uma vez, enquanto as amostras restantes são usadas para treinar o modelo. Em outras palavras, se você tem um dataset com n amostras, o modelo é treinado n vezes, cada vez com n-1 amostras e testado em uma amostra diferente. A métrica de desempenho, como a acurácia, é calculada para cada uma das n iterações e a média dessas métricas fornece a avaliação final do modelo."
   ]
  },
  {
   "cell_type": "code",
   "execution_count": 29,
   "id": "816f6352-be2e-4e82-be40-8b66ea946c3c",
   "metadata": {},
   "outputs": [
    {
     "name": "stdout",
     "output_type": "stream",
     "text": [
      "LOOCV Score: 0.9696\n"
     ]
    }
   ],
   "source": [
    "# Aplicando o LOOCV\n",
    "loo = LeaveOneOut()\n",
    "lr = LogisticRegression()\n",
    "scores_loo = cross_val_score(lr, pca_data, df['target'], cv = loo)\n",
    "print(f\"LOOCV Score: {scores_loo.mean()}\")"
   ]
  },
  {
   "cell_type": "markdown",
   "id": "1297585f-2d6f-4e4e-a931-22cc16c9eb9a",
   "metadata": {},
   "source": [
    "O LOOCV Score: 0.9696 indica que a média das pontuações obtidas em todas as iterações do LOOCV é 0.9696, o que sugere que o modelo tem uma acurácia média de aproximadamente 96.96% na previsão correta das amostras de teste."
   ]
  },
  {
   "cell_type": "markdown",
   "id": "e87274e6-b67c-4763-a534-165c33e7e0ed",
   "metadata": {},
   "source": [
    "## <font color='red'>Parte 9: Modelo Final</font>"
   ]
  },
  {
   "cell_type": "code",
   "execution_count": 30,
   "id": "2780f5a7-5e36-4fe4-8a16-4a7edb21a28f",
   "metadata": {},
   "outputs": [
    {
     "data": {
      "text/html": [
       "<style>#sk-container-id-1 {\n",
       "  /* Definition of color scheme common for light and dark mode */\n",
       "  --sklearn-color-text: black;\n",
       "  --sklearn-color-line: gray;\n",
       "  /* Definition of color scheme for unfitted estimators */\n",
       "  --sklearn-color-unfitted-level-0: #fff5e6;\n",
       "  --sklearn-color-unfitted-level-1: #f6e4d2;\n",
       "  --sklearn-color-unfitted-level-2: #ffe0b3;\n",
       "  --sklearn-color-unfitted-level-3: chocolate;\n",
       "  /* Definition of color scheme for fitted estimators */\n",
       "  --sklearn-color-fitted-level-0: #f0f8ff;\n",
       "  --sklearn-color-fitted-level-1: #d4ebff;\n",
       "  --sklearn-color-fitted-level-2: #b3dbfd;\n",
       "  --sklearn-color-fitted-level-3: cornflowerblue;\n",
       "\n",
       "  /* Specific color for light theme */\n",
       "  --sklearn-color-text-on-default-background: var(--sg-text-color, var(--theme-code-foreground, var(--jp-content-font-color1, black)));\n",
       "  --sklearn-color-background: var(--sg-background-color, var(--theme-background, var(--jp-layout-color0, white)));\n",
       "  --sklearn-color-border-box: var(--sg-text-color, var(--theme-code-foreground, var(--jp-content-font-color1, black)));\n",
       "  --sklearn-color-icon: #696969;\n",
       "\n",
       "  @media (prefers-color-scheme: dark) {\n",
       "    /* Redefinition of color scheme for dark theme */\n",
       "    --sklearn-color-text-on-default-background: var(--sg-text-color, var(--theme-code-foreground, var(--jp-content-font-color1, white)));\n",
       "    --sklearn-color-background: var(--sg-background-color, var(--theme-background, var(--jp-layout-color0, #111)));\n",
       "    --sklearn-color-border-box: var(--sg-text-color, var(--theme-code-foreground, var(--jp-content-font-color1, white)));\n",
       "    --sklearn-color-icon: #878787;\n",
       "  }\n",
       "}\n",
       "\n",
       "#sk-container-id-1 {\n",
       "  color: var(--sklearn-color-text);\n",
       "}\n",
       "\n",
       "#sk-container-id-1 pre {\n",
       "  padding: 0;\n",
       "}\n",
       "\n",
       "#sk-container-id-1 input.sk-hidden--visually {\n",
       "  border: 0;\n",
       "  clip: rect(1px 1px 1px 1px);\n",
       "  clip: rect(1px, 1px, 1px, 1px);\n",
       "  height: 1px;\n",
       "  margin: -1px;\n",
       "  overflow: hidden;\n",
       "  padding: 0;\n",
       "  position: absolute;\n",
       "  width: 1px;\n",
       "}\n",
       "\n",
       "#sk-container-id-1 div.sk-dashed-wrapped {\n",
       "  border: 1px dashed var(--sklearn-color-line);\n",
       "  margin: 0 0.4em 0.5em 0.4em;\n",
       "  box-sizing: border-box;\n",
       "  padding-bottom: 0.4em;\n",
       "  background-color: var(--sklearn-color-background);\n",
       "}\n",
       "\n",
       "#sk-container-id-1 div.sk-container {\n",
       "  /* jupyter's `normalize.less` sets `[hidden] { display: none; }`\n",
       "     but bootstrap.min.css set `[hidden] { display: none !important; }`\n",
       "     so we also need the `!important` here to be able to override the\n",
       "     default hidden behavior on the sphinx rendered scikit-learn.org.\n",
       "     See: https://github.com/scikit-learn/scikit-learn/issues/21755 */\n",
       "  display: inline-block !important;\n",
       "  position: relative;\n",
       "}\n",
       "\n",
       "#sk-container-id-1 div.sk-text-repr-fallback {\n",
       "  display: none;\n",
       "}\n",
       "\n",
       "div.sk-parallel-item,\n",
       "div.sk-serial,\n",
       "div.sk-item {\n",
       "  /* draw centered vertical line to link estimators */\n",
       "  background-image: linear-gradient(var(--sklearn-color-text-on-default-background), var(--sklearn-color-text-on-default-background));\n",
       "  background-size: 2px 100%;\n",
       "  background-repeat: no-repeat;\n",
       "  background-position: center center;\n",
       "}\n",
       "\n",
       "/* Parallel-specific style estimator block */\n",
       "\n",
       "#sk-container-id-1 div.sk-parallel-item::after {\n",
       "  content: \"\";\n",
       "  width: 100%;\n",
       "  border-bottom: 2px solid var(--sklearn-color-text-on-default-background);\n",
       "  flex-grow: 1;\n",
       "}\n",
       "\n",
       "#sk-container-id-1 div.sk-parallel {\n",
       "  display: flex;\n",
       "  align-items: stretch;\n",
       "  justify-content: center;\n",
       "  background-color: var(--sklearn-color-background);\n",
       "  position: relative;\n",
       "}\n",
       "\n",
       "#sk-container-id-1 div.sk-parallel-item {\n",
       "  display: flex;\n",
       "  flex-direction: column;\n",
       "}\n",
       "\n",
       "#sk-container-id-1 div.sk-parallel-item:first-child::after {\n",
       "  align-self: flex-end;\n",
       "  width: 50%;\n",
       "}\n",
       "\n",
       "#sk-container-id-1 div.sk-parallel-item:last-child::after {\n",
       "  align-self: flex-start;\n",
       "  width: 50%;\n",
       "}\n",
       "\n",
       "#sk-container-id-1 div.sk-parallel-item:only-child::after {\n",
       "  width: 0;\n",
       "}\n",
       "\n",
       "/* Serial-specific style estimator block */\n",
       "\n",
       "#sk-container-id-1 div.sk-serial {\n",
       "  display: flex;\n",
       "  flex-direction: column;\n",
       "  align-items: center;\n",
       "  background-color: var(--sklearn-color-background);\n",
       "  padding-right: 1em;\n",
       "  padding-left: 1em;\n",
       "}\n",
       "\n",
       "\n",
       "/* Toggleable style: style used for estimator/Pipeline/ColumnTransformer box that is\n",
       "clickable and can be expanded/collapsed.\n",
       "- Pipeline and ColumnTransformer use this feature and define the default style\n",
       "- Estimators will overwrite some part of the style using the `sk-estimator` class\n",
       "*/\n",
       "\n",
       "/* Pipeline and ColumnTransformer style (default) */\n",
       "\n",
       "#sk-container-id-1 div.sk-toggleable {\n",
       "  /* Default theme specific background. It is overwritten whether we have a\n",
       "  specific estimator or a Pipeline/ColumnTransformer */\n",
       "  background-color: var(--sklearn-color-background);\n",
       "}\n",
       "\n",
       "/* Toggleable label */\n",
       "#sk-container-id-1 label.sk-toggleable__label {\n",
       "  cursor: pointer;\n",
       "  display: block;\n",
       "  width: 100%;\n",
       "  margin-bottom: 0;\n",
       "  padding: 0.5em;\n",
       "  box-sizing: border-box;\n",
       "  text-align: center;\n",
       "}\n",
       "\n",
       "#sk-container-id-1 label.sk-toggleable__label-arrow:before {\n",
       "  /* Arrow on the left of the label */\n",
       "  content: \"▸\";\n",
       "  float: left;\n",
       "  margin-right: 0.25em;\n",
       "  color: var(--sklearn-color-icon);\n",
       "}\n",
       "\n",
       "#sk-container-id-1 label.sk-toggleable__label-arrow:hover:before {\n",
       "  color: var(--sklearn-color-text);\n",
       "}\n",
       "\n",
       "/* Toggleable content - dropdown */\n",
       "\n",
       "#sk-container-id-1 div.sk-toggleable__content {\n",
       "  max-height: 0;\n",
       "  max-width: 0;\n",
       "  overflow: hidden;\n",
       "  text-align: left;\n",
       "  /* unfitted */\n",
       "  background-color: var(--sklearn-color-unfitted-level-0);\n",
       "}\n",
       "\n",
       "#sk-container-id-1 div.sk-toggleable__content.fitted {\n",
       "  /* fitted */\n",
       "  background-color: var(--sklearn-color-fitted-level-0);\n",
       "}\n",
       "\n",
       "#sk-container-id-1 div.sk-toggleable__content pre {\n",
       "  margin: 0.2em;\n",
       "  border-radius: 0.25em;\n",
       "  color: var(--sklearn-color-text);\n",
       "  /* unfitted */\n",
       "  background-color: var(--sklearn-color-unfitted-level-0);\n",
       "}\n",
       "\n",
       "#sk-container-id-1 div.sk-toggleable__content.fitted pre {\n",
       "  /* unfitted */\n",
       "  background-color: var(--sklearn-color-fitted-level-0);\n",
       "}\n",
       "\n",
       "#sk-container-id-1 input.sk-toggleable__control:checked~div.sk-toggleable__content {\n",
       "  /* Expand drop-down */\n",
       "  max-height: 200px;\n",
       "  max-width: 100%;\n",
       "  overflow: auto;\n",
       "}\n",
       "\n",
       "#sk-container-id-1 input.sk-toggleable__control:checked~label.sk-toggleable__label-arrow:before {\n",
       "  content: \"▾\";\n",
       "}\n",
       "\n",
       "/* Pipeline/ColumnTransformer-specific style */\n",
       "\n",
       "#sk-container-id-1 div.sk-label input.sk-toggleable__control:checked~label.sk-toggleable__label {\n",
       "  color: var(--sklearn-color-text);\n",
       "  background-color: var(--sklearn-color-unfitted-level-2);\n",
       "}\n",
       "\n",
       "#sk-container-id-1 div.sk-label.fitted input.sk-toggleable__control:checked~label.sk-toggleable__label {\n",
       "  background-color: var(--sklearn-color-fitted-level-2);\n",
       "}\n",
       "\n",
       "/* Estimator-specific style */\n",
       "\n",
       "/* Colorize estimator box */\n",
       "#sk-container-id-1 div.sk-estimator input.sk-toggleable__control:checked~label.sk-toggleable__label {\n",
       "  /* unfitted */\n",
       "  background-color: var(--sklearn-color-unfitted-level-2);\n",
       "}\n",
       "\n",
       "#sk-container-id-1 div.sk-estimator.fitted input.sk-toggleable__control:checked~label.sk-toggleable__label {\n",
       "  /* fitted */\n",
       "  background-color: var(--sklearn-color-fitted-level-2);\n",
       "}\n",
       "\n",
       "#sk-container-id-1 div.sk-label label.sk-toggleable__label,\n",
       "#sk-container-id-1 div.sk-label label {\n",
       "  /* The background is the default theme color */\n",
       "  color: var(--sklearn-color-text-on-default-background);\n",
       "}\n",
       "\n",
       "/* On hover, darken the color of the background */\n",
       "#sk-container-id-1 div.sk-label:hover label.sk-toggleable__label {\n",
       "  color: var(--sklearn-color-text);\n",
       "  background-color: var(--sklearn-color-unfitted-level-2);\n",
       "}\n",
       "\n",
       "/* Label box, darken color on hover, fitted */\n",
       "#sk-container-id-1 div.sk-label.fitted:hover label.sk-toggleable__label.fitted {\n",
       "  color: var(--sklearn-color-text);\n",
       "  background-color: var(--sklearn-color-fitted-level-2);\n",
       "}\n",
       "\n",
       "/* Estimator label */\n",
       "\n",
       "#sk-container-id-1 div.sk-label label {\n",
       "  font-family: monospace;\n",
       "  font-weight: bold;\n",
       "  display: inline-block;\n",
       "  line-height: 1.2em;\n",
       "}\n",
       "\n",
       "#sk-container-id-1 div.sk-label-container {\n",
       "  text-align: center;\n",
       "}\n",
       "\n",
       "/* Estimator-specific */\n",
       "#sk-container-id-1 div.sk-estimator {\n",
       "  font-family: monospace;\n",
       "  border: 1px dotted var(--sklearn-color-border-box);\n",
       "  border-radius: 0.25em;\n",
       "  box-sizing: border-box;\n",
       "  margin-bottom: 0.5em;\n",
       "  /* unfitted */\n",
       "  background-color: var(--sklearn-color-unfitted-level-0);\n",
       "}\n",
       "\n",
       "#sk-container-id-1 div.sk-estimator.fitted {\n",
       "  /* fitted */\n",
       "  background-color: var(--sklearn-color-fitted-level-0);\n",
       "}\n",
       "\n",
       "/* on hover */\n",
       "#sk-container-id-1 div.sk-estimator:hover {\n",
       "  /* unfitted */\n",
       "  background-color: var(--sklearn-color-unfitted-level-2);\n",
       "}\n",
       "\n",
       "#sk-container-id-1 div.sk-estimator.fitted:hover {\n",
       "  /* fitted */\n",
       "  background-color: var(--sklearn-color-fitted-level-2);\n",
       "}\n",
       "\n",
       "/* Specification for estimator info (e.g. \"i\" and \"?\") */\n",
       "\n",
       "/* Common style for \"i\" and \"?\" */\n",
       "\n",
       ".sk-estimator-doc-link,\n",
       "a:link.sk-estimator-doc-link,\n",
       "a:visited.sk-estimator-doc-link {\n",
       "  float: right;\n",
       "  font-size: smaller;\n",
       "  line-height: 1em;\n",
       "  font-family: monospace;\n",
       "  background-color: var(--sklearn-color-background);\n",
       "  border-radius: 1em;\n",
       "  height: 1em;\n",
       "  width: 1em;\n",
       "  text-decoration: none !important;\n",
       "  margin-left: 1ex;\n",
       "  /* unfitted */\n",
       "  border: var(--sklearn-color-unfitted-level-1) 1pt solid;\n",
       "  color: var(--sklearn-color-unfitted-level-1);\n",
       "}\n",
       "\n",
       ".sk-estimator-doc-link.fitted,\n",
       "a:link.sk-estimator-doc-link.fitted,\n",
       "a:visited.sk-estimator-doc-link.fitted {\n",
       "  /* fitted */\n",
       "  border: var(--sklearn-color-fitted-level-1) 1pt solid;\n",
       "  color: var(--sklearn-color-fitted-level-1);\n",
       "}\n",
       "\n",
       "/* On hover */\n",
       "div.sk-estimator:hover .sk-estimator-doc-link:hover,\n",
       ".sk-estimator-doc-link:hover,\n",
       "div.sk-label-container:hover .sk-estimator-doc-link:hover,\n",
       ".sk-estimator-doc-link:hover {\n",
       "  /* unfitted */\n",
       "  background-color: var(--sklearn-color-unfitted-level-3);\n",
       "  color: var(--sklearn-color-background);\n",
       "  text-decoration: none;\n",
       "}\n",
       "\n",
       "div.sk-estimator.fitted:hover .sk-estimator-doc-link.fitted:hover,\n",
       ".sk-estimator-doc-link.fitted:hover,\n",
       "div.sk-label-container:hover .sk-estimator-doc-link.fitted:hover,\n",
       ".sk-estimator-doc-link.fitted:hover {\n",
       "  /* fitted */\n",
       "  background-color: var(--sklearn-color-fitted-level-3);\n",
       "  color: var(--sklearn-color-background);\n",
       "  text-decoration: none;\n",
       "}\n",
       "\n",
       "/* Span, style for the box shown on hovering the info icon */\n",
       ".sk-estimator-doc-link span {\n",
       "  display: none;\n",
       "  z-index: 9999;\n",
       "  position: relative;\n",
       "  font-weight: normal;\n",
       "  right: .2ex;\n",
       "  padding: .5ex;\n",
       "  margin: .5ex;\n",
       "  width: min-content;\n",
       "  min-width: 20ex;\n",
       "  max-width: 50ex;\n",
       "  color: var(--sklearn-color-text);\n",
       "  box-shadow: 2pt 2pt 4pt #999;\n",
       "  /* unfitted */\n",
       "  background: var(--sklearn-color-unfitted-level-0);\n",
       "  border: .5pt solid var(--sklearn-color-unfitted-level-3);\n",
       "}\n",
       "\n",
       ".sk-estimator-doc-link.fitted span {\n",
       "  /* fitted */\n",
       "  background: var(--sklearn-color-fitted-level-0);\n",
       "  border: var(--sklearn-color-fitted-level-3);\n",
       "}\n",
       "\n",
       ".sk-estimator-doc-link:hover span {\n",
       "  display: block;\n",
       "}\n",
       "\n",
       "/* \"?\"-specific style due to the `<a>` HTML tag */\n",
       "\n",
       "#sk-container-id-1 a.estimator_doc_link {\n",
       "  float: right;\n",
       "  font-size: 1rem;\n",
       "  line-height: 1em;\n",
       "  font-family: monospace;\n",
       "  background-color: var(--sklearn-color-background);\n",
       "  border-radius: 1rem;\n",
       "  height: 1rem;\n",
       "  width: 1rem;\n",
       "  text-decoration: none;\n",
       "  /* unfitted */\n",
       "  color: var(--sklearn-color-unfitted-level-1);\n",
       "  border: var(--sklearn-color-unfitted-level-1) 1pt solid;\n",
       "}\n",
       "\n",
       "#sk-container-id-1 a.estimator_doc_link.fitted {\n",
       "  /* fitted */\n",
       "  border: var(--sklearn-color-fitted-level-1) 1pt solid;\n",
       "  color: var(--sklearn-color-fitted-level-1);\n",
       "}\n",
       "\n",
       "/* On hover */\n",
       "#sk-container-id-1 a.estimator_doc_link:hover {\n",
       "  /* unfitted */\n",
       "  background-color: var(--sklearn-color-unfitted-level-3);\n",
       "  color: var(--sklearn-color-background);\n",
       "  text-decoration: none;\n",
       "}\n",
       "\n",
       "#sk-container-id-1 a.estimator_doc_link.fitted:hover {\n",
       "  /* fitted */\n",
       "  background-color: var(--sklearn-color-fitted-level-3);\n",
       "}\n",
       "</style><div id=\"sk-container-id-1\" class=\"sk-top-container\"><div class=\"sk-text-repr-fallback\"><pre>LogisticRegression()</pre><b>In a Jupyter environment, please rerun this cell to show the HTML representation or trust the notebook. <br />On GitHub, the HTML representation is unable to render, please try loading this page with nbviewer.org.</b></div><div class=\"sk-container\" hidden><div class=\"sk-item\"><div class=\"sk-estimator fitted sk-toggleable\"><input class=\"sk-toggleable__control sk-hidden--visually\" id=\"sk-estimator-id-1\" type=\"checkbox\" checked><label for=\"sk-estimator-id-1\" class=\"sk-toggleable__label fitted sk-toggleable__label-arrow fitted\">&nbsp;&nbsp;LogisticRegression<a class=\"sk-estimator-doc-link fitted\" rel=\"noreferrer\" target=\"_blank\" href=\"https://scikit-learn.org/1.4/modules/generated/sklearn.linear_model.LogisticRegression.html\">?<span>Documentation for LogisticRegression</span></a><span class=\"sk-estimator-doc-link fitted\">i<span>Fitted</span></span></label><div class=\"sk-toggleable__content fitted\"><pre>LogisticRegression()</pre></div> </div></div></div></div>"
      ],
      "text/plain": [
       "LogisticRegression()"
      ]
     },
     "execution_count": 30,
     "metadata": {},
     "output_type": "execute_result"
    }
   ],
   "source": [
    "# Para o modelo final será usado 4 componentes principais\n",
    "pca_final = PCA(n_components = 4)\n",
    "pca_data_final = pca_final.fit_transform(dados_padronizados)\n",
    "modelo_lr_final = LogisticRegression()\n",
    "modelo_lr_final.fit(pca_data_final, df['target'])"
   ]
  },
  {
   "cell_type": "markdown",
   "id": "f3872db8-e8fa-4fbf-886c-ccc488456c08",
   "metadata": {},
   "source": [
    "## <font color='red'>Parte 10: Testando Novos Dados</font>"
   ]
  },
  {
   "cell_type": "code",
   "execution_count": 31,
   "id": "73c3eee3-45e1-46e4-b173-93f76247ee79",
   "metadata": {},
   "outputs": [],
   "source": [
    "# # Simulando novos dados de sensores de uma máquina industrial\n",
    "dados = {\n",
    "    'type': [np.random.choice(['L', 'M', 'H'])],\n",
    "    'air_temperature[K]': [np.random.uniform(295, 305)],\n",
    "    'process_temperature[K]': [np.random.uniform(305, 315)],\n",
    "    'rotational_speed[rpm]': [np.random.randint(1100, 3000)],\n",
    "    'torque[NM]': [np.random.uniform(3.5, 80)],\n",
    "    'tool_wear[min]': [np.random.randint(0, 260)]}\n",
    "\n",
    "# Criar o DataFrame\n",
    "novos_dados = pd.DataFrame(dados)"
   ]
  },
  {
   "cell_type": "code",
   "execution_count": 32,
   "id": "d28f7d07-a9b2-4f2b-9fd2-b24b6f05e603",
   "metadata": {},
   "outputs": [
    {
     "data": {
      "text/html": [
       "<div>\n",
       "<style scoped>\n",
       "    .dataframe tbody tr th:only-of-type {\n",
       "        vertical-align: middle;\n",
       "    }\n",
       "\n",
       "    .dataframe tbody tr th {\n",
       "        vertical-align: top;\n",
       "    }\n",
       "\n",
       "    .dataframe thead th {\n",
       "        text-align: right;\n",
       "    }\n",
       "</style>\n",
       "<table border=\"1\" class=\"dataframe\">\n",
       "  <thead>\n",
       "    <tr style=\"text-align: right;\">\n",
       "      <th></th>\n",
       "      <th>type</th>\n",
       "      <th>air_temperature[K]</th>\n",
       "      <th>process_temperature[K]</th>\n",
       "      <th>rotational_speed[rpm]</th>\n",
       "      <th>torque[NM]</th>\n",
       "      <th>tool_wear[min]</th>\n",
       "    </tr>\n",
       "  </thead>\n",
       "  <tbody>\n",
       "    <tr>\n",
       "      <th>0</th>\n",
       "      <td>H</td>\n",
       "      <td>298.242041</td>\n",
       "      <td>312.487235</td>\n",
       "      <td>1171</td>\n",
       "      <td>15.19797</td>\n",
       "      <td>55</td>\n",
       "    </tr>\n",
       "  </tbody>\n",
       "</table>\n",
       "</div>"
      ],
      "text/plain": [
       "  type  air_temperature[K]  process_temperature[K]  rotational_speed[rpm]  \\\n",
       "0    H          298.242041              312.487235                   1171   \n",
       "\n",
       "   torque[NM]  tool_wear[min]  \n",
       "0    15.19797              55  "
      ]
     },
     "execution_count": 32,
     "metadata": {},
     "output_type": "execute_result"
    }
   ],
   "source": [
    "novos_dados"
   ]
  },
  {
   "cell_type": "code",
   "execution_count": 33,
   "id": "25e8e232-270e-4614-93b3-0025133697dd",
   "metadata": {},
   "outputs": [],
   "source": [
    "# Aplicar o mapeamento ao DataFrame\n",
    "novos_dados['type'] = novos_dados['type'].map(type_mapping)"
   ]
  },
  {
   "cell_type": "code",
   "execution_count": 34,
   "id": "86a4b414-1dc2-48e5-998f-a36bc046eea4",
   "metadata": {},
   "outputs": [
    {
     "data": {
      "text/html": [
       "<div>\n",
       "<style scoped>\n",
       "    .dataframe tbody tr th:only-of-type {\n",
       "        vertical-align: middle;\n",
       "    }\n",
       "\n",
       "    .dataframe tbody tr th {\n",
       "        vertical-align: top;\n",
       "    }\n",
       "\n",
       "    .dataframe thead th {\n",
       "        text-align: right;\n",
       "    }\n",
       "</style>\n",
       "<table border=\"1\" class=\"dataframe\">\n",
       "  <thead>\n",
       "    <tr style=\"text-align: right;\">\n",
       "      <th></th>\n",
       "      <th>type</th>\n",
       "      <th>air_temperature[K]</th>\n",
       "      <th>process_temperature[K]</th>\n",
       "      <th>rotational_speed[rpm]</th>\n",
       "      <th>torque[NM]</th>\n",
       "      <th>tool_wear[min]</th>\n",
       "    </tr>\n",
       "  </thead>\n",
       "  <tbody>\n",
       "    <tr>\n",
       "      <th>0</th>\n",
       "      <td>3</td>\n",
       "      <td>298.242041</td>\n",
       "      <td>312.487235</td>\n",
       "      <td>1171</td>\n",
       "      <td>15.19797</td>\n",
       "      <td>55</td>\n",
       "    </tr>\n",
       "  </tbody>\n",
       "</table>\n",
       "</div>"
      ],
      "text/plain": [
       "   type  air_temperature[K]  process_temperature[K]  rotational_speed[rpm]  \\\n",
       "0     3          298.242041              312.487235                   1171   \n",
       "\n",
       "   torque[NM]  tool_wear[min]  \n",
       "0    15.19797              55  "
      ]
     },
     "execution_count": 34,
     "metadata": {},
     "output_type": "execute_result"
    }
   ],
   "source": [
    "novos_dados"
   ]
  },
  {
   "cell_type": "code",
   "execution_count": 35,
   "id": "9146c360-3bd0-4a1b-84f3-b84dff34ba86",
   "metadata": {},
   "outputs": [],
   "source": [
    "# Padroniza os dados de entrada\n",
    "novos_dados_padronizados = scaler.transform(novos_dados)"
   ]
  },
  {
   "cell_type": "code",
   "execution_count": 36,
   "id": "e51d1b85-66e7-48c6-87bc-0a8ef898eaaf",
   "metadata": {},
   "outputs": [],
   "source": [
    "# Aplica o PCA\n",
    "pca_novos_dados = pca_final.transform(novos_dados_padronizados)"
   ]
  },
  {
   "cell_type": "code",
   "execution_count": 37,
   "id": "c6fb8eac-883d-4eb3-a902-dc1ef2414e18",
   "metadata": {},
   "outputs": [
    {
     "name": "stdout",
     "output_type": "stream",
     "text": [
      "A máquina não precisa fazer manutenção preventiva, pois a resposta do modelo foi [0].\n"
     ]
    }
   ],
   "source": [
    "# Previsão com novos dados\n",
    "previsao = modelo_lr_final.predict(pca_novos_dados)\n",
    "if previsao == 0:\n",
    "    print('A máquina não precisa fazer manutenção preventiva, pois a resposta do modelo foi {}.'.format(previsao))\n",
    "else:\n",
    "    print('A máquina precisa fazer manutenção preventiva, pois a resposta do modelo foi {}.'.format(previsao))\n"
   ]
  },
  {
   "cell_type": "markdown",
   "id": "c6c83328-ab56-4930-b7f0-aa63b50c32b5",
   "metadata": {},
   "source": [
    "## <font color='red'>Sistema e Pacotes</font>"
   ]
  },
  {
   "cell_type": "code",
   "execution_count": 41,
   "id": "69773304-4f28-46c4-909b-c3996d9e2fad",
   "metadata": {},
   "outputs": [
    {
     "name": "stdout",
     "output_type": "stream",
     "text": [
      "Python implementation: CPython\n",
      "Python version       : 3.12.4\n",
      "IPython version      : 8.25.0\n",
      "\n",
      "Compiler    : MSC v.1929 64 bit (AMD64)\n",
      "OS          : Windows\n",
      "Release     : 11\n",
      "Machine     : AMD64\n",
      "Processor   : Intel64 Family 6 Model 126 Stepping 5, GenuineIntel\n",
      "CPU cores   : 4\n",
      "Architecture: 64bit\n",
      "\n",
      "numpy     : 1.26.4\n",
      "pandas    : 2.2.2\n",
      "sklearn   : 1.4.2\n",
      "matplotlib: 3.8.4\n",
      "\n"
     ]
    }
   ],
   "source": [
    "%reload_ext watermark\n",
    "%watermark -v -m\n",
    "%watermark --iversions"
   ]
  }
 ],
 "metadata": {
  "kernelspec": {
   "display_name": "Python 3 (ipykernel)",
   "language": "python",
   "name": "python3"
  },
  "language_info": {
   "codemirror_mode": {
    "name": "ipython",
    "version": 3
   },
   "file_extension": ".py",
   "mimetype": "text/x-python",
   "name": "python",
   "nbconvert_exporter": "python",
   "pygments_lexer": "ipython3",
   "version": "3.12.4"
  }
 },
 "nbformat": 4,
 "nbformat_minor": 5
}
